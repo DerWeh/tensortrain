{
 "cells": [
  {
   "cell_type": "code",
   "execution_count": null,
   "id": "22a43e7f",
   "metadata": {
    "jupyter": {
     "outputs_hidden": false,
     "source_hidden": false
    },
    "nteract": {
     "transient": {
      "deleting": false
     }
    }
   },
   "outputs": [],
   "source": [
    "import numpy as np\n",
    "import matplotlib.pyplot as plt\n",
    "%matplotlib inline\n",
    "\n",
    "plt.rcParams['figure.figsize'] = [9, 5]"
   ]
  },
  {
   "cell_type": "markdown",
   "id": "4e544eb4",
   "metadata": {
    "nteract": {
     "transient": {
      "deleting": false
     }
    }
   },
   "source": [
    "# Problem 1: Tensor contractions"
   ]
  },
  {
   "cell_type": "code",
   "execution_count": null,
   "id": "1df4cb35",
   "metadata": {
    "jupyter": {
     "outputs_hidden": false,
     "source_hidden": false
    },
    "nteract": {
     "transient": {
      "deleting": false
     }
    }
   },
   "outputs": [],
   "source": [
    "dim = 20\n",
    "A = np.random.random([dim]*4)\n",
    "B = np.random.random([dim]*4)\n",
    "A.shape, B.shape"
   ]
  },
  {
   "cell_type": "code",
   "execution_count": null,
   "id": "181b2a1e",
   "metadata": {
    "jupyter": {
     "outputs_hidden": false,
     "source_hidden": false
    },
    "nteract": {
     "transient": {
      "deleting": false
     }
    }
   },
   "outputs": [],
   "source": [
    "# to get the tensors in a matrix form, we can use a reshape:\n",
    "print(\"Matrix shape:\", A.reshape(dim, dim**3).shape)\n",
    "# of course the content doesn't change:\n",
    "assert np.all(A.reshape(dim, dim**3).flatten() == A.flatten())\n",
    "\n",
    "# to get the legs in the right order, we can use transpose\n",
    "test = np.random.random([1, 2, 3, 4, 5])\n",
    "print(\"Initial shape:\", test.shape)\n",
    "print(\"Reordered shape:\", test.transpose(3, 2, 0, 1, 4).shape)"
   ]
  },
  {
   "cell_type": "markdown",
   "id": "b1cd7a8b",
   "metadata": {
    "nteract": {
     "transient": {
      "deleting": false
     }
    }
   },
   "source": [
    "Let's contract the tensors A and B using a fast BLAS matrix multiplication\n",
    "(Check ``np.show_config()`` that you have BLAS for speed ups).\n",
    "\n",
    "The contraction we consider equals the sum\n",
    "$$ \\sum_{mn} A_{imjn} B_{mkln}.$$"
   ]
  },
  {
   "cell_type": "code",
   "execution_count": null,
   "id": "cde10504",
   "metadata": {
    "jupyter": {
     "outputs_hidden": false,
     "source_hidden": false
    },
    "nteract": {
     "transient": {
      "deleting": false
     }
    }
   },
   "outputs": [],
   "source": [
    "Atrans = A.transpose(0, 2, 1, 3)\n",
    "Amat = Atrans.reshape(dim**2, dim**2)\n",
    "Btrans = B.transpose(0, 3, 1, 2)\n",
    "Bmat = Btrans.reshape(dim**2, dim**2)\n",
    "\n",
    "# contraction:\n",
    "ABmat = Amat @ Bmat\n",
    "\n",
    "# bring it back in tensor form\n",
    "AB = ABmat.reshape([dim]*4)\n",
    "AB.shape"
   ]
  },
  {
   "cell_type": "code",
   "execution_count": null,
   "id": "90254288",
   "metadata": {
    "jupyter": {
     "outputs_hidden": false,
     "source_hidden": false
    },
    "nteract": {
     "transient": {
      "deleting": false
     }
    }
   },
   "outputs": [],
   "source": [
    "# Let's check our result using np.einsum\n",
    "AB_einsum = np.einsum('imjn,mkln', A, B)\n",
    "assert np.allclose(AB, AB_einsum)"
   ]
  },
  {
   "cell_type": "code",
   "execution_count": null,
   "id": "d9037124",
   "metadata": {
    "jupyter": {
     "outputs_hidden": false,
     "source_hidden": false
    },
    "nteract": {
     "transient": {
      "deleting": false
     }
    }
   },
   "outputs": [],
   "source": [
    "# While einsum is convenient, a matrix product is much faster\n",
    "%timeit A.transpose(0, 2, 1, 3).reshape(dim**2, dim**2) @ B.transpose(0, 3, 1, 2).reshape(dim**2, dim**2)\n",
    "%timeit np.einsum('imjn,mkln', A, B)\n",
    "# on my machine 50 times for this example:\n",
    "# 2.51 ms ± 35.1 µs per loop (mean ± std. dev. of 7 runs, 100 loops each)\n",
    "# 108 ms ± 1.27 ms per loop (mean ± std. dev. of 7 runs, 10 loops each)"
   ]
  },
  {
   "cell_type": "markdown",
   "id": "5e84f74d",
   "metadata": {
    "nteract": {
     "transient": {
      "deleting": false
     }
    }
   },
   "source": [
    "As we see, it is not hard to contract networks using fast linear algebra libraries, however it is cumbersome to handle the bookkeeping.\n",
    "\n",
    "Therefore, one should use appropriate libraries.\n",
    "A common notation is `ncon`:"
   ]
  },
  {
   "cell_type": "code",
   "execution_count": null,
   "id": "668d183e",
   "metadata": {
    "jupyter": {
     "outputs_hidden": false,
     "source_hidden": false
    },
    "nteract": {
     "transient": {
      "deleting": false
     }
    }
   },
   "outputs": [],
   "source": [
    "from ncon import ncon\n",
    "\n",
    "AB_ncon = ncon([A, B], [(-1, 1, -2, 2), (1, -3, -4, 2)])\n",
    "assert np.allclose(AB, AB_ncon)"
   ]
  },
  {
   "cell_type": "code",
   "execution_count": null,
   "id": "f7a4ae5a",
   "metadata": {
    "jupyter": {
     "outputs_hidden": false,
     "source_hidden": false
    },
    "nteract": {
     "transient": {
      "deleting": false
     }
    }
   },
   "outputs": [],
   "source": [
    "# We see, ncon also is performant\n",
    "%timeit ncon([A, B], [(-1, 1, -2, 2), (1, -3, -4, 2)])\n",
    "# 2.83 ms ± 351 µs per loop (mean ± std. dev. of 7 runs, 100 loops each)"
   ]
  },
  {
   "cell_type": "markdown",
   "id": "c93b87ef",
   "metadata": {
    "nteract": {
     "transient": {
      "deleting": false
     }
    }
   },
   "source": [
    "# Problem 2: Compression"
   ]
  },
  {
   "cell_type": "code",
   "execution_count": null,
   "id": "4bca6e5e",
   "metadata": {
    "jupyter": {
     "outputs_hidden": false,
     "source_hidden": false
    },
    "nteract": {
     "transient": {
      "deleting": false
     }
    }
   },
   "outputs": [],
   "source": [
    "from scipy import misc\n",
    "face = misc.face(gray=True)\n",
    "plt.imshow(face, cmap='gray');"
   ]
  },
  {
   "cell_type": "code",
   "execution_count": null,
   "id": "7472a07d",
   "metadata": {
    "jupyter": {
     "outputs_hidden": false,
     "source_hidden": false
    },
    "nteract": {
     "transient": {
      "deleting": false
     }
    }
   },
   "outputs": [],
   "source": [
    "u, s, vh = np.linalg.svd(face, full_matrices=False)\n",
    "assert np.allclose((u*s)@vh, face)\n",
    "plt.plot(s/s[0])\n",
    "plt.yscale('log')"
   ]
  },
  {
   "cell_type": "code",
   "execution_count": null,
   "id": "b1d6f75f",
   "metadata": {
    "jupyter": {
     "outputs_hidden": false,
     "source_hidden": false
    },
    "nteract": {
     "transient": {
      "deleting": false
     }
    }
   },
   "outputs": [],
   "source": [
    "# truncate the singular values for compression\n",
    "num = 150\n",
    "__, axes = plt.subplots(ncols=2)\n",
    "axes[0].set_title(\"original\")\n",
    "axes[0].imshow(face, cmap=\"gray\")\n",
    "axes[1].set_title(\"compressed\")\n",
    "axes[1].imshow((u*s)[:, :num] @ vh[:num, :], cmap=\"gray\");"
   ]
  },
  {
   "cell_type": "code",
   "execution_count": null,
   "id": "f7e81f9d",
   "metadata": {
    "jupyter": {
     "outputs_hidden": false,
     "source_hidden": false
    },
    "nteract": {
     "transient": {
      "deleting": false
     }
    }
   },
   "outputs": [],
   "source": [
    "# the error is given by the truncated singular values\n",
    "# Frobenius norm\n",
    "ferr_singular = np.sqrt(np.sum(s[num:]**2))\n",
    "ferr_norm = np.linalg.norm(face - (u*s)[:, :num] @ vh[:num, :], ord='fro')\n",
    "print(\"Frobenius norm:\", ferr_singular, ferr_norm)\n",
    "# Spectral norm\n",
    "serr_singular = s[num]\n",
    "serr_norm = np.linalg.norm(face - (u*s)[:, :num] @ vh[:num, :], ord=2)\n",
    "print(\"Spectral norm:\", serr_singular, serr_norm)"
   ]
  },
  {
   "cell_type": "code",
   "execution_count": null,
   "id": "0f880f20",
   "metadata": {
    "jupyter": {
     "outputs_hidden": false,
     "source_hidden": false
    },
    "nteract": {
     "transient": {
      "deleting": false
     }
    }
   },
   "outputs": [],
   "source": [
    "# compression\n",
    "((u*s)[:, :num].size + vh[:num, :].size) / face.size"
   ]
  },
  {
   "cell_type": "markdown",
   "id": "1fce9559",
   "metadata": {
    "nteract": {
     "transient": {
      "deleting": false
     }
    }
   },
   "source": [
    "Note, that physical quantities can oftentimes be compressed much better.\n",
    "Some example quantity:"
   ]
  },
  {
   "cell_type": "code",
   "execution_count": null,
   "id": "6fc4bd3b",
   "metadata": {
    "jupyter": {
     "outputs_hidden": false,
     "source_hidden": false
    },
    "nteract": {
     "transient": {
      "deleting": false
     }
    }
   },
   "outputs": [],
   "source": [
    "drange = np.arange(12) + 1\n",
    "Mat = np.sqrt(drange[:, None, None, None, None]\n",
    "              + 2*drange[None, :, None, None, None]\n",
    "              + 3*drange[None, None, :, None, None]\n",
    "              + 4*drange[None, None, None, :, None]\n",
    "              + 5*drange[None, None, None, None, :]\n",
    "             )\n",
    "s = np.linalg.svd(Mat.reshape(12**2, 12**3), compute_uv=False)\n",
    "plt.plot(s/s[0])\n",
    "plt.yscale('log')"
   ]
  },
  {
   "cell_type": "markdown",
   "id": "e96bf862",
   "metadata": {
    "nteract": {
     "transient": {
      "deleting": false
     }
    }
   },
   "source": [
    "Let's also compress the colored image"
   ]
  },
  {
   "cell_type": "code",
   "execution_count": null,
   "id": "dd32b417",
   "metadata": {
    "jupyter": {
     "outputs_hidden": false,
     "source_hidden": false
    },
    "nteract": {
     "transient": {
      "deleting": false
     }
    }
   },
   "outputs": [],
   "source": [
    "face = misc.face(gray=False)\n",
    "plt.imshow(face);"
   ]
  },
  {
   "cell_type": "code",
   "execution_count": null,
   "id": "d591e6d6",
   "metadata": {
    "jupyter": {
     "outputs_hidden": false,
     "source_hidden": false
    },
    "nteract": {
     "transient": {
      "deleting": false
     }
    }
   },
   "outputs": [],
   "source": [
    "# we can try to truncate each color\n",
    "red = face[..., 0]\n",
    "green = face[..., 1]\n",
    "blue = face[..., 2]\n",
    "rsvd = np.linalg.svd(red, full_matrices=False)\n",
    "gsvd = np.linalg.svd(green, full_matrices=False)\n",
    "bsvd = np.linalg.svd(blue, full_matrices=False)\n",
    "\n",
    "plt.plot(rsvd[1], color='red')\n",
    "plt.plot(gsvd[1], color='green')\n",
    "plt.plot(bsvd[1], color='blue')\n",
    "plt.yscale('log')"
   ]
  },
  {
   "cell_type": "code",
   "execution_count": null,
   "id": "47855c67",
   "metadata": {
    "jupyter": {
     "outputs_hidden": false,
     "source_hidden": false
    },
    "nteract": {
     "transient": {
      "deleting": false
     }
    }
   },
   "outputs": [],
   "source": [
    "num = 150\n",
    "rtrunc = (rsvd[0]*rsvd[1])[:, :num]@rsvd[2][:num, :]\n",
    "gtrunc = (gsvd[0]*gsvd[1])[:, :num]@gsvd[2][:num, :]\n",
    "btrunc = (bsvd[0]*bsvd[1])[:, :num]@bsvd[2][:num, :]\n",
    "trunc = np.stack([rtrunc, gtrunc, btrunc], axis=-1)\n",
    "\n",
    "__, axes = plt.subplots(ncols=2)\n",
    "axes[0].set_title(\"original\")\n",
    "axes[0].imshow(face)\n",
    "axes[1].set_title(\"compressed\")\n",
    "axes[1].imshow(trunc.astype(int));\n",
    "print(\"Compression:\",\n",
    "      3*((rsvd[0]*rsvd[1])[:, :num].size + rsvd[2][:num, :].size) / face.size)"
   ]
  },
  {
   "cell_type": "code",
   "execution_count": null,
   "id": "06101cd4",
   "metadata": {
    "jupyter": {
     "outputs_hidden": false,
     "source_hidden": false
    },
    "nteract": {
     "transient": {
      "deleting": false
     }
    }
   },
   "outputs": [],
   "source": [
    "# or, we use a reshape\n",
    "shape = face.shape\n",
    "u, s, vh = np.linalg.svd(face.reshape(shape[0], shape[1]*shape[2]),\n",
    "                         full_matrices=False)\n",
    "plt.plot(s/s[0])\n",
    "plt.yscale('log')"
   ]
  },
  {
   "cell_type": "code",
   "execution_count": null,
   "id": "788aced6",
   "metadata": {
    "jupyter": {
     "outputs_hidden": false,
     "source_hidden": false
    },
    "nteract": {
     "transient": {
      "deleting": false
     }
    }
   },
   "outputs": [],
   "source": [
    "num = 150\n",
    "__, axes = plt.subplots(ncols=2)\n",
    "axes[0].set_title(\"original\")\n",
    "axes[0].imshow(face)\n",
    "axes[1].set_title(\"compressed\")\n",
    "axes[1].imshow(((u*s)[:, :num] @ vh[:num, :]).reshape(shape).astype(int))\n",
    "print(\"Compression:\", ((u*s)[:, :num].size + (vh)[:num, :].size )/face.size)"
   ]
  }
 ],
 "metadata": {
  "kernel_info": {
   "name": "python3"
  },
  "kernelspec": {
   "argv": [
    "/usr/bin/python3",
    "-m",
    "ipykernel_launcher",
    "-f",
    "{connection_file}"
   ],
   "display_name": "Python 3",
   "language": "python",
   "name": "python3"
  },
  "language_info": {
   "codemirror_mode": {
    "name": "ipython",
    "version": 3
   },
   "file_extension": ".py",
   "mimetype": "text/x-python",
   "name": "python",
   "nbconvert_exporter": "python",
   "pygments_lexer": "ipython3",
   "version": "3.9.7"
  },
  "nteract": {
   "version": "0.28.0"
  }
 },
 "nbformat": 4,
 "nbformat_minor": 5
}
