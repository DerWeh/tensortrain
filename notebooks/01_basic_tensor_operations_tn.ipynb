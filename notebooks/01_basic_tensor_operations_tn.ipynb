{
 "cells": [
  {
   "cell_type": "code",
   "execution_count": null,
   "id": "1b38e593",
   "metadata": {
    "jupyter": {
     "outputs_hidden": false,
     "source_hidden": false
    },
    "nteract": {
     "transient": {
      "deleting": false
     }
    }
   },
   "outputs": [],
   "source": [
    "import numpy as np\n",
    "import matplotlib.pyplot as plt\n",
    "import tensornetwork as tn\n",
    "%matplotlib inline\n",
    "\n",
    "plt.rcParams['figure.figsize'] = [9, 5]"
   ]
  },
  {
   "cell_type": "markdown",
   "id": "e38bcbf1",
   "metadata": {
    "nteract": {
     "transient": {
      "deleting": false
     }
    }
   },
   "source": [
    "# Problem 1: Tensor contractions"
   ]
  },
  {
   "cell_type": "code",
   "execution_count": null,
   "id": "f708ce75",
   "metadata": {
    "jupyter": {
     "outputs_hidden": false,
     "source_hidden": false
    },
    "nteract": {
     "transient": {
      "deleting": false
     }
    }
   },
   "outputs": [],
   "source": [
    "dim = 20\n",
    "A = np.random.random([dim]*4)\n",
    "B = np.random.random([dim]*4)\n",
    "A.shape, B.shape"
   ]
  },
  {
   "cell_type": "markdown",
   "id": "99b60a22",
   "metadata": {
    "nteract": {
     "transient": {
      "deleting": false
     }
    }
   },
   "source": [
    "Let's contract the tensors A and B using a fast BLAS matrix multiplication\n",
    "(Check `np.show_config()` that you have BLAS for speed ups)"
   ]
  },
  {
   "cell_type": "code",
   "execution_count": null,
   "id": "abd8f043",
   "metadata": {
    "jupyter": {
     "outputs_hidden": false,
     "source_hidden": false
    },
    "nteract": {
     "transient": {
      "deleting": false
     }
    }
   },
   "outputs": [],
   "source": [
    "# declaring the tensors as nodes\n",
    "An = tn.Node(A, name='A')\n",
    "Bn = tn.Node(B, name='B')\n",
    "# connecting the nodes\n",
    "tn.connect(An[1], Bn[0])\n",
    "tn.connect(An[3], Bn[3])\n",
    "tn.to_graphviz([An, Bn])"
   ]
  },
  {
   "cell_type": "code",
   "execution_count": null,
   "id": "6aa1b302",
   "metadata": {
    "jupyter": {
     "outputs_hidden": false,
     "source_hidden": false
    },
    "nteract": {
     "transient": {
      "deleting": false
     }
    }
   },
   "outputs": [],
   "source": [
    "# contraction consumes the original network, therefor we work on a copy\n",
    "ABn = tn.contract_between(*tn.replicate_nodes([An, Bn]))\n",
    "AB_einsum = np.einsum('imjn,mkln', A, B)\n",
    "assert np.allclose(ABn.tensor, AB_einsum)"
   ]
  },
  {
   "cell_type": "code",
   "execution_count": null,
   "id": "390f9c68",
   "metadata": {
    "jupyter": {
     "outputs_hidden": false,
     "source_hidden": false
    },
    "nteract": {
     "transient": {
      "deleting": false
     }
    }
   },
   "outputs": [],
   "source": [
    "# We can also name the nodes\n",
    "# declaring the tensors as axis\n",
    "An = tn.Node(A, name='A', axis_names=\"imjn\")\n",
    "Bn = tn.Node(B, name='B', axis_names=\"mkln\")\n",
    "# connecting the nodes\n",
    "tn.connect(An[\"m\"], Bn[\"m\"], name=\"m\")\n",
    "tn.connect(An[\"n\"], Bn[\"n\"], name=\"n\")\n",
    "tn.to_graphviz([An, Bn])"
   ]
  },
  {
   "cell_type": "code",
   "execution_count": null,
   "id": "29469208",
   "metadata": {
    "jupyter": {
     "outputs_hidden": false,
     "source_hidden": false
    },
    "nteract": {
     "transient": {
      "deleting": false
     }
    }
   },
   "outputs": [],
   "source": [
    "# Lets also check speed\n",
    "%timeit tn.contract_between(*tn.replicate_nodes([An, Bn]))"
   ]
  },
  {
   "cell_type": "code",
   "execution_count": null,
   "id": "4b93b06f",
   "metadata": {
    "jupyter": {
     "outputs_hidden": false,
     "source_hidden": false
    },
    "nteract": {
     "transient": {
      "deleting": false
     }
    }
   },
   "outputs": [],
   "source": [
    "# We can speed things up using \"jax\",\n",
    "# it can even be used to put things on the GPU\n",
    "tn.set_default_backend(\"jax\")\n",
    "# We can also name the nodes\n",
    "# declaring the tensors as axis\n",
    "An = tn.Node(A, name='A', axis_names=\"imjn\")\n",
    "Bn = tn.Node(B, name='B', axis_names=\"mkln\")\n",
    "# connecting the nodes\n",
    "tn.connect(An[\"m\"], Bn[\"m\"], name=\"m\")\n",
    "tn.connect(An[\"n\"], Bn[\"n\"], name=\"n\")\n",
    "%timeit tn.contract_between(*tn.replicate_nodes([An, Bn]))"
   ]
  },
  {
   "cell_type": "markdown",
   "id": "256b17e7",
   "metadata": {
    "nteract": {
     "transient": {
      "deleting": false
     }
    }
   },
   "source": [
    "# Problem 2: Compression"
   ]
  },
  {
   "cell_type": "code",
   "execution_count": null,
   "id": "98bd551b",
   "metadata": {
    "jupyter": {
     "outputs_hidden": false,
     "source_hidden": false
    },
    "nteract": {
     "transient": {
      "deleting": false
     }
    }
   },
   "outputs": [],
   "source": [
    "from scipy import misc\n",
    "face = misc.face(gray=True)\n",
    "plt.imshow(face, cmap='gray');"
   ]
  },
  {
   "cell_type": "code",
   "execution_count": null,
   "id": "4e7ba191",
   "metadata": {
    "jupyter": {
     "outputs_hidden": false,
     "source_hidden": false
    },
    "nteract": {
     "transient": {
      "deleting": false
     }
    }
   },
   "outputs": [],
   "source": [
    "facen = tn.Node(face.astype(float), name='face')\n",
    "\n",
    "# truncate the singular values for compression\n",
    "num = 150\n",
    "us, vhs, truncs = tn.split_node(facen, max_singular_values=num,\n",
    "                                left_edges=[facen[0]], right_edges=[facen[1]])\n",
    "face_trunc = tn.contract_between(us, vhs)\n",
    "__, axes = plt.subplots(ncols=2)\n",
    "axes[0].set_title(\"original\")\n",
    "axes[0].imshow(face, cmap=\"gray\")\n",
    "axes[1].set_title(\"compressed\")\n",
    "axes[1].imshow(face_trunc.tensor, cmap=\"gray\");\n",
    "print(\"Compression:\", (us.tensor.size + vhs.tensor.size)/face.size)"
   ]
  },
  {
   "cell_type": "code",
   "execution_count": null,
   "id": "ed08f981",
   "metadata": {
    "jupyter": {
     "outputs_hidden": false,
     "source_hidden": false
    },
    "nteract": {
     "transient": {
      "deleting": false
     }
    }
   },
   "outputs": [],
   "source": [
    "# the error is given by the truncated singular values\n",
    "# Frobenius norm\n",
    "ferr_singular = np.sqrt(np.sum(truncs**2))\n",
    "ferr_norm = np.linalg.norm(face - face_trunc.tensor, ord='fro')\n",
    "print(\"Frobenius norm:\", ferr_singular, ferr_norm)\n",
    "# Spectral norm\n",
    "serr_singular = truncs[0]\n",
    "serr_norm = np.linalg.norm(face - face_trunc.tensor, ord=2)\n",
    "print(\"Spectral norm:\", serr_singular, serr_norm)"
   ]
  },
  {
   "cell_type": "code",
   "execution_count": null,
   "id": "a9be3b34",
   "metadata": {
    "jupyter": {
     "outputs_hidden": false,
     "source_hidden": false
    },
    "nteract": {
     "transient": {
      "deleting": false
     }
    }
   },
   "outputs": [],
   "source": [
    "# alternatively, we can directly limit the truncation error:\n",
    "facen = tn.Node(face.astype(float), name='face')\n",
    "\n",
    "# truncate the singular values for compression\n",
    "error = 1e-1\n",
    "us, vhs, truncs = tn.split_node(facen, left_edges=[facen[0]], right_edges=[facen[1]], max_truncation_err=error, relative=True)\n",
    "print(f\"Truncated {truncs.size} values, that is kept {min(face.shape) - truncs.size}\")\n",
    "face_trunc = tn.contract_between(us, vhs)\n",
    "__, axes = plt.subplots(ncols=2)\n",
    "axes[0].set_title(\"original\")\n",
    "axes[0].imshow(face, cmap=\"gray\")\n",
    "axes[1].set_title(\"compressed\")\n",
    "axes[1].imshow(face_trunc.tensor, cmap=\"gray\");\n",
    "print(\"Compression:\", (us.tensor.size + vhs.tensor.size)/face.size)\n",
    "# the error is given by the truncated singular values\n",
    "# Frobenius norm\n",
    "ferr_singular = np.sqrt(np.sum(truncs**2))\n",
    "ferr_norm = np.linalg.norm(face - face_trunc.tensor, ord='fro')\n",
    "print(\"Frobenius norm:\", ferr_singular, ferr_norm,\n",
    "      \"relative\", ferr_norm / np.linalg.norm(face, ord=\"fro\"))\n",
    "# Spectral norm\n",
    "serr_singular = truncs[0]\n",
    "serr_norm = np.linalg.norm(face - face_trunc.tensor, ord=2)\n",
    "print(\"Spectral norm:\", serr_singular, serr_norm,\n",
    "      \"relative\", serr_norm / np.linalg.norm(face, ord=2))"
   ]
  },
  {
   "cell_type": "markdown",
   "id": "66e50564",
   "metadata": {
    "nteract": {
     "transient": {
      "deleting": false
     }
    }
   },
   "source": [
    "Let's also compress the colored image"
   ]
  },
  {
   "cell_type": "code",
   "execution_count": null,
   "id": "f94019bd",
   "metadata": {
    "jupyter": {
     "outputs_hidden": false,
     "source_hidden": false
    },
    "nteract": {
     "transient": {
      "deleting": false
     }
    }
   },
   "outputs": [],
   "source": [
    "face = misc.face(gray=False)\n",
    "plt.imshow(face);"
   ]
  },
  {
   "cell_type": "code",
   "execution_count": null,
   "id": "527a9e25",
   "metadata": {
    "jupyter": {
     "outputs_hidden": false,
     "source_hidden": false
    },
    "nteract": {
     "transient": {
      "deleting": false
     }
    }
   },
   "outputs": [],
   "source": [
    "facen = tn.Node(face.astype(float), name='face')\n",
    "\n",
    "# truncate the singular values for compression\n",
    "num = 150\n",
    "us, vhs, truncs = tn.split_node(facen, max_singular_values=num,\n",
    "                                left_edges=facen[:1], right_edges=facen[1:])\n",
    "face_trunc = tn.contract_between(us, vhs)\n",
    "__, axes = plt.subplots(ncols=2)\n",
    "axes[0].set_title(\"original\")\n",
    "axes[0].imshow(face)\n",
    "axes[1].set_title(\"compressed\")\n",
    "axes[1].imshow(face_trunc.tensor.astype(int));\n",
    "print(\"Compression:\", (us.tensor.size + vhs.tensor.size)/face.size)"
   ]
  }
 ],
 "metadata": {
  "jupytext": {
   "formats": "ipynb,py:hydrogen"
  },
  "kernel_info": {
   "name": "python3"
  },
  "kernelspec": {
   "argv": [
    "/usr/bin/python3",
    "-m",
    "ipykernel_launcher",
    "-f",
    "{connection_file}"
   ],
   "display_name": "Python 3",
   "language": "python",
   "name": "python3"
  }
 },
 "nbformat": 4,
 "nbformat_minor": 5
}
