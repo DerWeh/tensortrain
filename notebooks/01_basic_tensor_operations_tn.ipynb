{
 "cells": [
  {
   "cell_type": "code",
   "execution_count": null,
   "id": "1b38e593",
   "metadata": {
    "jupyter": {
     "outputs_hidden": false,
     "source_hidden": false
    },
    "nteract": {
     "transient": {
      "deleting": false
     }
    }
   },
   "outputs": [],
   "source": [
    "import numpy as np\n",
    "import matplotlib.pyplot as plt\n",
    "import tensornetwork as tn\n",
    "%matplotlib inline\n",
    "\n",
    "plt.rcParams['figure.figsize'] = [9, 5]"
   ]
  },
  {
   "cell_type": "markdown",
   "id": "e38bcbf1",
   "metadata": {
    "nteract": {
     "transient": {
      "deleting": false
     }
    }
   },
   "source": [
    "# Problem 1: Tensor contractions"
   ]
  },
  {
   "cell_type": "code",
   "execution_count": null,
   "id": "f708ce75",
   "metadata": {
    "jupyter": {
     "outputs_hidden": false,
     "source_hidden": false
    },
    "nteract": {
     "transient": {
      "deleting": false
     }
    }
   },
   "outputs": [],
   "source": [
    "dim = 20\n",
    "A = np.random.random([dim]*4)\n",
    "B = np.random.random([dim]*4)\n",
    "A.shape, B.shape"
   ]
  },
  {
   "cell_type": "markdown",
   "id": "99b60a22",
   "metadata": {
    "nteract": {
     "transient": {
      "deleting": false
     }
    }
   },
   "source": [
    "Let's contract the tensors A and B using a fast BLAS matrix multiplication\n",
    "(Check ``np.show_config()`` that you have BLAS for speed ups).\n",
    "\n",
    "The contraction we consider equals the sum\n",
    "$$ \\sum_{mn} A_{imjn} B_{mkln}.$$\n"
   ]
  },
  {
   "cell_type": "code",
   "execution_count": null,
   "id": "abd8f043",
   "metadata": {
    "jupyter": {
     "outputs_hidden": false,
     "source_hidden": false
    },
    "nteract": {
     "transient": {
      "deleting": false
     }
    }
   },
   "outputs": [],
   "source": [
    "# declaring the tensors as nodes\n",
    "An = tn.Node(A, name='A')\n",
    "Bn = tn.Node(B, name='B')\n",
    "# connecting the nodes\n",
    "tn.connect(An[1], Bn[0])\n",
    "tn.connect(An[3], Bn[3])\n",
    "tn.to_graphviz([An, Bn])"
   ]
  },
  {
   "cell_type": "code",
   "execution_count": null,
   "id": "6aa1b302",
   "metadata": {
    "jupyter": {
     "outputs_hidden": false,
     "source_hidden": false
    },
    "nteract": {
     "transient": {
      "deleting": false
     }
    }
   },
   "outputs": [],
   "source": [
    "# contraction consumes the original network, therefor we work on a copy\n",
    "ABn = tn.contract_between(*tn.replicate_nodes([An, Bn]))\n",
    "AB_einsum = np.einsum('imjn,mkln', A, B)\n",
    "assert np.allclose(ABn.tensor, AB_einsum)"
   ]
  },
  {
   "cell_type": "code",
   "execution_count": null,
   "id": "390f9c68",
   "metadata": {
    "jupyter": {
     "outputs_hidden": false,
     "source_hidden": false
    },
    "nteract": {
     "transient": {
      "deleting": false
     }
    }
   },
   "outputs": [],
   "source": [
    "# We can also name the nodes\n",
    "# declaring the tensors as axis\n",
    "An = tn.Node(A, name='A', axis_names=\"imjn\")\n",
    "Bn = tn.Node(B, name='B', axis_names=\"mkln\")\n",
    "# connecting the nodes\n",
    "tn.connect(An[\"m\"], Bn[\"m\"], name=\"m\")\n",
    "tn.connect(An[\"n\"], Bn[\"n\"], name=\"n\")\n",
    "tn.to_graphviz([An, Bn])"
   ]
  },
  {
   "cell_type": "code",
   "execution_count": null,
   "id": "29469208",
   "metadata": {
    "jupyter": {
     "outputs_hidden": false,
     "source_hidden": false
    },
    "nteract": {
     "transient": {
      "deleting": false
     }
    }
   },
   "outputs": [],
   "source": [
    "# Lets also check speed\n",
    "%timeit tn.contract_between(*tn.replicate_nodes([An, Bn]))"
   ]
  },
  {
   "cell_type": "code",
   "execution_count": null,
   "id": "4b93b06f",
   "metadata": {
    "jupyter": {
     "outputs_hidden": false,
     "source_hidden": false
    },
    "nteract": {
     "transient": {
      "deleting": false
     }
    }
   },
   "outputs": [],
   "source": [
    "# We can speed things up using \"jax\",\n",
    "# it can even be used to put things on the GPU\n",
    "tn.set_default_backend(\"jax\")\n",
    "# We can also name the nodes\n",
    "# declaring the tensors as axis\n",
    "An = tn.Node(A, name='A', axis_names=\"imjn\")\n",
    "Bn = tn.Node(B, name='B', axis_names=\"mkln\")\n",
    "# connecting the nodes\n",
    "tn.connect(An[\"m\"], Bn[\"m\"], name=\"m\")\n",
    "tn.connect(An[\"n\"], Bn[\"n\"], name=\"n\")\n",
    "%timeit tn.contract_between(*tn.replicate_nodes([An, Bn]))"
   ]
  },
  {
   "cell_type": "markdown",
   "id": "256b17e7",
   "metadata": {
    "nteract": {
     "transient": {
      "deleting": false
     }
    }
   },
   "source": [
    "# Problem 2: Compression"
   ]
  },
  {
   "cell_type": "code",
   "execution_count": null,
   "id": "98bd551b",
   "metadata": {
    "jupyter": {
     "outputs_hidden": false,
     "source_hidden": false
    },
    "nteract": {
     "transient": {
      "deleting": false
     }
    }
   },
   "outputs": [],
   "source": [
    "from scipy import misc\n",
    "face = misc.face(gray=True)\n",
    "plt.imshow(face, cmap='gray');"
   ]
  },
  {
   "cell_type": "code",
   "execution_count": null,
   "id": "4e7ba191",
   "metadata": {
    "jupyter": {
     "outputs_hidden": false,
     "source_hidden": false
    },
    "nteract": {
     "transient": {
      "deleting": false
     }
    }
   },
   "outputs": [],
   "source": [
    "facen = tn.Node(face.astype(float), name='face')\n",
    "\n",
    "# truncate the singular values for compression\n",
    "num = 150\n",
    "us, vhs, truncs = tn.split_node(facen, max_singular_values=num,\n",
    "                                left_edges=[facen[0]], right_edges=[facen[1]])\n",
    "face_trunc = tn.contract_between(us, vhs)\n",
    "__, axes = plt.subplots(ncols=2)\n",
    "axes[0].set_title(\"original\")\n",
    "axes[0].imshow(face, cmap=\"gray\")\n",
    "axes[1].set_title(\"compressed\")\n",
    "axes[1].imshow(face_trunc.tensor, cmap=\"gray\")\n",
    "print(\"Compression:\", (us.tensor.size + vhs.tensor.size)/face.size)"
   ]
  },
  {
   "cell_type": "code",
   "execution_count": null,
   "id": "ed08f981",
   "metadata": {
    "jupyter": {
     "outputs_hidden": false,
     "source_hidden": false
    },
    "nteract": {
     "transient": {
      "deleting": false
     }
    }
   },
   "outputs": [],
   "source": [
    "# the error is given by the truncated singular values\n",
    "# Frobenius norm\n",
    "ferr_singular = np.sqrt(np.sum(truncs**2))\n",
    "ferr_norm = np.linalg.norm(face - face_trunc.tensor, ord='fro')\n",
    "print(\"Frobenius norm:\", ferr_singular, ferr_norm)\n",
    "# Spectral norm\n",
    "serr_singular = truncs[0]\n",
    "serr_norm = np.linalg.norm(face - face_trunc.tensor, ord=2)\n",
    "print(\"Spectral norm:\", serr_singular, serr_norm)"
   ]
  },
  {
   "cell_type": "code",
   "execution_count": null,
   "id": "a9be3b34",
   "metadata": {
    "jupyter": {
     "outputs_hidden": false,
     "source_hidden": false
    },
    "nteract": {
     "transient": {
      "deleting": false
     }
    }
   },
   "outputs": [],
   "source": [
    "# alternatively, we can directly limit the truncation error:\n",
    "facen = tn.Node(face.astype(float), name='face')\n",
    "\n",
    "# truncate the singular values for compression\n",
    "error = 1e-1\n",
    "us, vhs, truncs = tn.split_node(facen, max_truncation_err=error, relative=True,\n",
    "                                left_edges=[facen[0]], right_edges=[facen[1]])\n",
    "print(f\"Truncated {truncs.size} values, that is {min(face.shape) - truncs.size} are kept\")\n",
    "face_trunc = tn.contract_between(us, vhs)\n",
    "__, axes = plt.subplots(ncols=2)\n",
    "axes[0].set_title(\"original\")\n",
    "axes[0].imshow(face, cmap=\"gray\")\n",
    "axes[1].set_title(\"compressed\")\n",
    "axes[1].imshow(face_trunc.tensor, cmap=\"gray\");\n",
    "print(\"Compression:\", (us.tensor.size + vhs.tensor.size)/face.size)\n",
    "# the error is given by the truncated singular values\n",
    "# Frobenius norm\n",
    "ferr_singular = np.sqrt(np.sum(truncs**2))\n",
    "ferr_norm = np.linalg.norm(face - face_trunc.tensor, ord='fro')\n",
    "print(\"Frobenius norm:\", ferr_singular, ferr_norm,\n",
    "      \"\\trelative\", ferr_norm / np.linalg.norm(face, ord=\"fro\"))\n",
    "# Spectral norm\n",
    "serr_singular = truncs[0]\n",
    "serr_norm = np.linalg.norm(face - face_trunc.tensor, ord=2)\n",
    "print(\"Spectral norm: \", serr_singular, serr_norm,\n",
    "      \"\\trelative\", serr_norm / np.linalg.norm(face, ord=2))"
   ]
  },
  {
   "cell_type": "markdown",
   "id": "66e50564",
   "metadata": {
    "nteract": {
     "transient": {
      "deleting": false
     }
    }
   },
   "source": [
    "Let's also compress the colored image, spliting the tensor between rows and columns of the picture:"
   ]
  },
  {
   "cell_type": "code",
   "execution_count": null,
   "id": "f94019bd",
   "metadata": {
    "jupyter": {
     "outputs_hidden": false,
     "source_hidden": false
    },
    "nteract": {
     "transient": {
      "deleting": false
     }
    }
   },
   "outputs": [],
   "source": [
    "face = misc.face(gray=False)\n",
    "plt.imshow(face);"
   ]
  },
  {
   "cell_type": "code",
   "execution_count": null,
   "id": "527a9e25",
   "metadata": {
    "jupyter": {
     "outputs_hidden": false,
     "source_hidden": false
    },
    "nteract": {
     "transient": {
      "deleting": false
     }
    }
   },
   "outputs": [],
   "source": [
    "facen = tn.Node(face.astype(float), name='face')\n",
    "\n",
    "# truncate the singular values for compression\n",
    "num = 150\n",
    "us, vhs, truncs = tn.split_node(facen, max_singular_values=num,\n",
    "                                left_edges=facen[:1], right_edges=facen[1:])\n",
    "tn.to_graphviz([us, vhs])"
   ]
  },
  {
   "cell_type": "code",
   "execution_count": null,
   "id": "243e75c1-ebd9-4b97-87da-f92f0f0a8171",
   "metadata": {
    "jupyter": {
     "outputs_hidden": false,
     "source_hidden": false
    },
    "nteract": {
     "transient": {
      "deleting": false
     }
    }
   },
   "outputs": [],
   "source": [
    "face_trunc = tn.contract_between(us, vhs)\n",
    "__, axes = plt.subplots(ncols=2)\n",
    "axes[0].set_title(\"original\")\n",
    "axes[0].imshow(face)\n",
    "axes[1].set_title(\"compressed\")\n",
    "axes[1].imshow(face_trunc.tensor.astype(int));\n",
    "print(\"Compression:\", (us.tensor.size + vhs.tensor.size)/face.size)"
   ]
  },
  {
   "cell_type": "markdown",
   "id": "19d2e02f-00c9-4d0f-9fc2-ad3d2e81f659",
   "metadata": {
    "nteract": {
     "transient": {
      "deleting": false
     }
    }
   },
   "source": [
    "Of course, we can further split of the color dimension.\n",
    "In general the quality of approximation/compression will depend on the geometry we use:"
   ]
  },
  {
   "cell_type": "code",
   "execution_count": null,
   "id": "844dd427-70f0-499e-88fa-aed37886f6a0",
   "metadata": {
    "jupyter": {
     "outputs_hidden": false,
     "source_hidden": false
    },
    "nteract": {
     "transient": {
      "deleting": false
     }
    }
   },
   "outputs": [],
   "source": [
    "facen = tn.Node(face.astype(float), name='face')\n",
    "# truncate the singular values for compression\n",
    "err = 1e-1 \n",
    "row, vhs, truncs = tn.split_node(facen, max_truncation_err=error/2, relative=True,\n",
    "                                 left_edges=facen[:1], right_edges=facen[1:],\n",
    "                                 left_name='row')                            \n",
    "print(f\"(1) Truncated {truncs.size} values\")\n",
    "\n",
    "column, color, truncs2 = tn.split_node(vhs, max_truncation_err=error/2, relative=True,\n",
    "                                       left_edges=vhs[:2], right_edges=vhs[2:],\n",
    "                                       left_name='column', right_name='color')\n",
    "print(f\"(2) Truncated {truncs2.size} values\")\n",
    "tn.to_graphviz([row, column, color])"
   ]
  },
  {
   "cell_type": "code",
   "execution_count": null,
   "id": "88a9ac70-9426-4b5e-adcf-998614dd2a12",
   "metadata": {
    "jupyter": {
     "outputs_hidden": false,
     "source_hidden": false
    },
    "nteract": {
     "transient": {
      "deleting": false
     }
    }
   },
   "outputs": [],
   "source": [
    "# work with copy in case of replicated execusion of cell\n",
    "tensors = tn.replicate_nodes([row, column, color])\n",
    "face_trunc = tn.contractors.auto(tensors,\n",
    "                                 output_edge_order=[tensors[0][0], tensors[1][1], tensors[2][1]])\n",
    "__, axes = plt.subplots(ncols=2)\n",
    "axes[0].set_title(\"original\")\n",
    "axes[0].imshow(face)\n",
    "axes[1].set_title(\"compressed\")\n",
    "axes[1].imshow(face_trunc.tensor.astype(int));\n",
    "print(\"Compression:\", sum(node.tensor.size for node in tensors)/face.size)\n",
    "ferr_singular = np.sqrt(np.sum(truncs**2)) + np.sqrt(np.sum(truncs2**2))\n",
    "\n",
    "ferr_norm = np.linalg.norm((face - face_trunc.tensor).reshape(-1))\n",
    "print(\"Frobenius norm:\", ferr_singular, ferr_norm,\n",
    "      \"\\trelative\", ferr_norm / np.linalg.norm(face.reshape(-1)))\n"
   ]
  },
  {
   "cell_type": "markdown",
   "id": "19e6fbda-cbf4-48f0-8b92-93e79657345b",
   "metadata": {
    "nteract": {
     "transient": {
      "deleting": false
     }
    }
   },
   "source": [
    "Spliting the colors of in a second step doesn't allow for any additional compression,\n",
    "there can only be 3 singular values and it is intuitive that we need all to reasonably represent colors.\n",
    "However we can instead but the color-dimension into the center of the tensor train:\n"
   ]
  },
  {
   "cell_type": "code",
   "execution_count": null,
   "id": "3ffb808d-621a-44eb-9049-a5bb412e4ff7",
   "metadata": {
    "jupyter": {
     "outputs_hidden": false,
     "source_hidden": false
    },
    "nteract": {
     "transient": {
      "deleting": false
     }
    }
   },
   "outputs": [],
   "source": [
    "facen = tn.Node(face.astype(float), name='face')\n",
    "# truncate the singular values for compression\n",
    "num = 150\n",
    "err = 1e-1 \n",
    "row, vhs, truncs = tn.split_node(facen, max_truncation_err=error/2, relative=True,\n",
    "                                 left_edges=facen[:1], right_edges=facen[1:],\n",
    "                                 left_name='row')\n",
    "print(f\"(1) Truncated {truncs.size} values\")\n",
    "color, column, truncs2 = tn.split_node(vhs, max_truncation_err=error/2, relative=True,\n",
    "\n",
    "                                       left_edges=[vhs[0], vhs[2]], right_edges=[vhs[1]],\n",
    "                                       left_name='color', right_name='column')\n",
    "print(f\"(2) Truncated {truncs2.size} values\")\n",
    "tn.to_graphviz([row, column, color])"
   ]
  },
  {
   "cell_type": "code",
   "execution_count": null,
   "id": "227f0fa0-b71c-47e4-bbc8-c7ab05d478cb",
   "metadata": {
    "jupyter": {
     "outputs_hidden": false,
     "source_hidden": false
    },
    "nteract": {
     "transient": {
      "deleting": false
     }
    }
   },
   "outputs": [],
   "source": [
    "# work with copy in case of replicated execusion of cell\n",
    "tensors = tn.replicate_nodes([row, column, color])\n",
    "face_trunc = tn.contractors.auto(tensors,\n",
    "                                 output_edge_order=[tensors[0][0], tensors[1][1], tensors[2][1]])\n",
    "__, axes = plt.subplots(ncols=2)\n",
    "axes[0].set_title(\"original\")\n",
    "axes[0].imshow(face)\n",
    "axes[1].set_title(\"compressed\")\n",
    "axes[1].imshow(face_trunc.tensor.astype(int));\n",
    "print(\"Compression:\", sum(node.tensor.size for node in tensors)/face.size)\n",
    "\n",
    "ferr_singular = np.sqrt(np.sum(truncs**2)) + np.sqrt(np.sum(truncs2**2))\n",
    "\n",
    "ferr_norm = np.linalg.norm((face - face_trunc.tensor).reshape(-1))\n",
    "print(\"Frobenius norm:\", ferr_singular, ferr_norm,\n",
    "      \"\\trelative\", ferr_norm / np.linalg.norm(face.reshape(-1)))"
   ]
  }
 ],
 "metadata": {
  "jupytext": {
   "formats": "ipynb,py:hydrogen"
  },
  "kernel_info": {
   "name": "python3"
  },
  "kernelspec": {
   "argv": [
    "/usr/bin/python3",
    "-m",
    "ipykernel_launcher",
    "-f",
    "{connection_file}"
   ],
   "display_name": "Python 3",
   "language": "python",
   "name": "python3"
  },
  "language_info": {
   "codemirror_mode": {
    "name": "ipython",
    "version": 3
   },
   "file_extension": ".py",
   "mimetype": "text/x-python",
   "name": "python",
   "nbconvert_exporter": "python",
   "pygments_lexer": "ipython3",
   "version": "3.7.3"
  },
  "nteract": {
   "version": "0.28.0"
  }
 },
 "nbformat": 4,
 "nbformat_minor": 5
}
