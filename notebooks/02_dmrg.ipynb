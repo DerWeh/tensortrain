{
 "cells": [
  {
   "cell_type": "code",
   "execution_count": null,
   "id": "75ebf8cd",
   "metadata": {
    "jupyter": {
     "outputs_hidden": false,
     "source_hidden": false
    },
    "nteract": {
     "transient": {
      "deleting": false
     }
    }
   },
   "outputs": [],
   "source": [
    "import numpy as np\n",
    "import tensornetwork as tn\n",
    "import scipy.sparse.linalg as sla"
   ]
  },
  {
   "cell_type": "markdown",
   "id": "71eb48bc",
   "metadata": {
    "nteract": {
     "transient": {
      "deleting": false
     }
    }
   },
   "source": [
    "# (2-site) DMRG\n",
    "\n",
    "In this notebook, we illustrate the necessary concepts to build DMRG as a variational technique to find the ground state.\n",
    "The full DMRG code is available as separate Python code, containing several convenience methods.\n",
    "\n",
    "## MPO of the Hamiltonian\n",
    "\n",
    "To perform DMRG, we should write the Hamiltonian as an MPO.\n",
    "As the DMRG machinery is basically independent of the Hamiltonian,\n",
    "we focus on an extremely simple example: the XX-Model.\n",
    "\n",
    "$$ \\hat{H} = \\sum_{i=0}^{N-1} [\\sigma^-_i \\sigma^{+}_{i+1} + \\sigma^+_{i}\\sigma^-_{i+1}]$$\n",
    "\n",
    "The XX-Model can be solved exactly by mapping the interacting spins to non-interacting Fermions.\n",
    "\n",
    "We state the result for the MPO and verify it afterwards.\n",
    "We define the following matrices:\n",
    "\n",
    "$$\n",
    "H_L = \\begin{pmatrix} 1 & 0 & 0 &0 \\end{pmatrix}\n",
    "\\quad\n",
    "H_i = \\begin{pmatrix}\n",
    "    I & σ⁻_i & σ⁺_i &0 \\\\\n",
    "    0 & 0 & 0 & σ⁺_i \\\\\n",
    "    0 & 0 & 0 & σ⁻_i \\\\\n",
    "    0 & 0 & 0 & I\n",
    "\\end{pmatrix}\n",
    "\\quad\n",
    "H_R = \\begin{pmatrix} 0 \\\\ 0 \\\\ 0 \\\\ 1 \\end{pmatrix},\n",
    "$$\n",
    "where $I$ is the identity matrix.\n",
    "Let's check the matrix product $H_i H_{i+1}$:\n",
    "\n",
    "$$\n",
    "H_i H_{i+1}\n",
    "= \\begin{pmatrix}\n",
    " I & \\sigma^-_{i+1} & \\sigma^{+}_{i+1} & \\sigma^-_i \\sigma^{+}_{i+1} + \\sigma^+_{i}\\sigma^-_{i+1}\\\\\n",
    " 0 & 0 & 0 & \\sigma^+_{i}\\\\\n",
    " 0 & 0 & 0 & \\sigma^-_{i}\\\\\n",
    " 0 & 0 & 0 & I\n",
    "\\end{pmatrix}\n",
    "$$\n",
    "\n",
    "We see, that we accumulated the nearest neighbor coupling in the top right corner. This element will be selected by sandwiching the term between $H_L$ and $H_R$.\n",
    "The first row is now the previous column.\n",
    "\n",
    "We see the equivalence\n",
    "\n",
    "$$\n",
    "\\hat{H} = H_L \\left[\\prod_{i=0}^{N-1} H_i\\right] H_R.\n",
    "$$\n",
    "\n",
    "\n"
   ]
  },
  {
   "cell_type": "code",
   "execution_count": null,
   "id": "b8c3d0cc",
   "metadata": {
    "jupyter": {
     "outputs_hidden": false,
     "source_hidden": false
    },
    "nteract": {
     "transient": {
      "deleting": false
     }
    }
   },
   "outputs": [],
   "source": [
    "size = 5\n",
    "phys_dim = 2\n",
    "\n",
    "\n",
    "def chain(nodes):\n",
    "    \"\"\"Connect a chain of nodes 'left' to 'right'.\"\"\"\n",
    "    for left, right in zip(nodes[:-1], nodes[1:]):\n",
    "        tn.connect(left[\"right\"], right[\"left\"])"
   ]
  },
  {
   "cell_type": "code",
   "execution_count": null,
   "id": "90d76ef0",
   "metadata": {
    "jupyter": {
     "outputs_hidden": false,
     "source_hidden": false
    },
    "nteract": {
     "transient": {
      "deleting": false
     }
    }
   },
   "outputs": [],
   "source": [
    "MO_AXES = (\"left\", \"right\", \"phys_in\", \"phys_out\")\n",
    "\n",
    "s_p = np.sqrt(2) * np.array([[0, 0],\n",
    "                             [1, 0]])\n",
    "s_m = s_p.T\n",
    "idx = np.eye(2)\n",
    "mat = np.zeros([4, 4, phys_dim, phys_dim])\n",
    "mat[0, :-1, :, :] = idx, s_m, s_p\n",
    "mat[1:, -1, :, :] = s_p, s_m, idx\n",
    "left = np.array([1, 0, 0, 0]).reshape([4, 1, 1])  # left MPO boundary\n",
    "right = np.array([0, 0, 0, 1]).reshape([4, 1, 1])  # right MPO boundary\n",
    "nodes = [tn.Node(mat, name=\"H\", axis_names=MO_AXES) for __ in range(size)]\n",
    "node_l = tn.Node(left, name=\"LH\", axis_names=[\"right\", \"phys_in\", \"phys_out\"])\n",
    "node_r = tn.Node(right, name=\"HR\", axis_names=[\"left\", \"phys_in\", \"phys_out\"])\n",
    "\n",
    "chain([node_l] + nodes + [node_r])\n",
    "left, ham, right = node_l, nodes, right\n",
    "tn.to_graphviz([node_l] + nodes + [node_r])"
   ]
  },
  {
   "cell_type": "markdown",
   "id": "fd6816fb",
   "metadata": {
    "nteract": {
     "transient": {
      "deleting": false
     }
    }
   },
   "source": [
    "## MPS\n",
    "\n",
    "### The bond-dimension as the computational cost\n",
    "\n",
    "As previously discussed, the MPS can be obtained from repeated SVD of a state.\n",
    "However, the states are too large to fit in memory and SVD is expensive,\n",
    "thus, we have to start already from an MPS.\n",
    "Likewise, an uncompressed MPS is too large.\n",
    "We introduce a maximal bond dimension (oftentimes referred to as $\\chi$) to limit the size.\n",
    "For now, we'll assume that we know a state, and check the theoretical bond-dimensions obtained from SVD without any truncation.\n",
    "\n",
    "SVD decomposes a matrix $M^{m\\times n}$ into\n",
    "$$ M^{m\\times n} = U^{m\\times k} \\Sigma^{k\\times k} {(V^\\dagger)}^{k \\times n}; \\qquad k = \\min(m, n)$$\n",
    "(this is the economic version).\n",
    "\n",
    "We start from a state with $N$ sites, this is a vector of dimension $2^N$.\n",
    "Splitting the first site, we get a bond of dimension $\\chi_1=\\min(2, 2^{N-1}) = 2$.\n",
    "The splitting the next site, well get $\\chi_2 = \\min(2^2, 2^{N-2}) = 2^2$.\n",
    "Thus, the bond dimension grows exponentially, reaching its maximum $\\chi_{N/2} = \\min(2^{N/2}, 2^{N/2}) = 2^{N/2}$ in the middle of the chain.\n",
    "Unsurprisingly, we gained nothing so far, as we have only rewritten our problem.\n",
    "\n",
    "We start from an MPS with (small) bond-dimension and try to optimize it by minimizing the energy.\n",
    "The bond-dimension will automatically grow, and be truncated to keep reasonable computational cost."
   ]
  },
  {
   "cell_type": "code",
   "execution_count": null,
   "id": "980eb370",
   "metadata": {
    "jupyter": {
     "outputs_hidden": false,
     "source_hidden": false
    },
    "nteract": {
     "transient": {
      "deleting": false
     }
    }
   },
   "outputs": [],
   "source": [
    "MS_AXES = (\"left\", \"phys\", \"right\")\n",
    "\n",
    "max_bond_dim = 10\n",
    "bond_dims = [1] + [min(2**(site), 2**(size-site), max_bond_dim)\n",
    "                   for site in range(1, size)] + [1]\n",
    "rng = np.random.default_rng()\n",
    "nodes = [\n",
    "    tn.Node(rng.standard_normal([bond_l, phys_dim, bond_r]),\n",
    "            axis_names=MS_AXES, name=str(ii))\n",
    "    for ii, (bond_l, bond_r)\n",
    "    in enumerate(zip(bond_dims[:-1], bond_dims[1:]))\n",
    "]\n",
    "chain(nodes)\n",
    "mps = nodes\n",
    "tn.to_graphviz(nodes)"
   ]
  },
  {
   "cell_type": "markdown",
   "id": "5dbc8c4b",
   "metadata": {
    "nteract": {
     "transient": {
      "deleting": false
     }
    }
   },
   "source": [
    "### Canonical form of the MPS\n",
    "\n",
    "We have already seen, that the SVD provides the *optimal* compression of a matrix.\n",
    "This can be easily be generalized to tensor networks given.\n",
    "If we make a node $A$ the center of orthogonality, the SVD provides the *optimal* compression.\n",
    "\n",
    "To see this, we note that the Frobenius norm is $\\lVert{M}\\rVert = \\mathrm{Tr}{MM^\\dagger}$.\n",
    "A tensor network in canonical form can be written in form $T = UAV^\\dagger$ with $U^\\dagger U = V V^\\dagger = I$. Thus, we have $\\lVert T \\rVert = \\lVert A \\rVert$.\n",
    "\n",
    "The QR/RQ decomposition is a cheap (at least cheaper than SVD) way, to get the state into orthogonal form. We set site 0 as the center of orthogonality by sweeping from right to left through the chain."
   ]
  },
  {
   "cell_type": "code",
   "execution_count": null,
   "id": "fc6ee72b",
   "metadata": {
    "jupyter": {
     "outputs_hidden": false,
     "source_hidden": false
    },
    "nteract": {
     "transient": {
      "deleting": false
     }
    }
   },
   "outputs": [],
   "source": [
    "for pos in range(size-1, 0, -1):\n",
    "    node_r = mps[pos]\n",
    "    left, mps[pos] = tn.split_node_rq(\n",
    "        node_r, right_name=f\"R{pos}\",\n",
    "        left_edges=[node_r['left']],\n",
    "        right_edges=[node_r['phys'], node_r['right']],\n",
    "    )\n",
    "    mps[pos].add_axis_names(MS_AXES)\n",
    "    node_l = nodes[pos-1]\n",
    "    mps[pos-1] = tn.contract_between(node_l, left, name=str(pos-1),\n",
    "                                     axis_names=MS_AXES)\n",
    "    # normalize network\n",
    "    mps[pos-1].tensor /= np.linalg.norm(mps[pos-1].tensor)\n",
    "tn.to_graphviz(mps)"
   ]
  },
  {
   "cell_type": "markdown",
   "id": "0b25443c",
   "metadata": {
    "nteract": {
     "transient": {
      "deleting": false
     }
    }
   },
   "source": [
    "We prepared some helper libraries to make things easier:"
   ]
  },
  {
   "cell_type": "code",
   "execution_count": null,
   "id": "371228ee",
   "metadata": {
    "jupyter": {
     "outputs_hidden": false,
     "source_hidden": false
    },
    "nteract": {
     "transient": {
      "deleting": false
     }
    }
   },
   "outputs": [],
   "source": [
    "from pathlib import Path\n",
    "from sys import path\n",
    "\n",
    "path.insert(0, str(Path.cwd().parent))\n",
    "\n",
    "import tensortrain as tt"
   ]
  },
  {
   "cell_type": "code",
   "execution_count": null,
   "id": "7610813a",
   "metadata": {
    "jupyter": {
     "outputs_hidden": false,
     "source_hidden": false
    },
    "nteract": {
     "transient": {
      "deleting": false
     }
    }
   },
   "outputs": [],
   "source": [
    "mps = tt.State.from_random(\n",
    "\n",
    "    phys_dims=[2]*size,\n",
    "    bond_dims=[min(2**(site), 2**(size-site), max_bond_dim)\n",
    "               for site in range(1, size)]\n",
    ")\n",
    "print(mps)\n",
    "mps.set_center(2)\n",
    "print(mps)\n",
    "print(mps.copy(conjugate=True))\n",
    "ham = tt.heisenbergxx.xx_hamiltonian(size)\n",
    "\n",
    "tn.to_graphviz(mps)"
   ]
  },
  {
   "cell_type": "markdown",
   "id": "85805a3d",
   "metadata": {
    "nteract": {
     "transient": {
      "deleting": false
     }
    }
   },
   "source": [
    "# Minimization of energy\n",
    "\n",
    "To find the ground state, we need to minimize the energy.\n",
    "This is given by the network:"
   ]
  },
  {
   "cell_type": "code",
   "execution_count": null,
   "id": "e7f7eae5",
   "metadata": {
    "jupyter": {
     "outputs_hidden": false,
     "source_hidden": false
    },
    "nteract": {
     "transient": {
      "deleting": false
     }
    }
   },
   "outputs": [],
   "source": [
    "mps.set_center(1)\n",
    "\n",
    "bra, ham_, ket = mps.copy(), ham.copy(), mps.copy(conjugate=True)\n",
    "for site in range(size):\n",
    "    tn.connect(bra[site][\"phys\"], ham_[site][\"phys_in\"])\n",
    "    tn.connect(ham_[site][\"phys_out\"], ket[site][\"phys\"])\n",
    "tn.connect(bra[-1][\"right\"], ham_.right[\"phys_in\"])\n",
    "tn.connect(ket[-1][\"right\"], ham_.right[\"phys_out\"])\n",
    "\n",
    "tn.connect(ham_.left[\"phys_in\"], bra[0][\"left\"])\n",
    "\n",
    "tn.connect(ham_.left[\"phys_out\"], ket[0][\"left\"])\n",
    "tn.to_graphviz([ham_.left] + bra.nodes + ket.nodes + ham_.nodes + [ham_.right])"
   ]
  },
  {
   "cell_type": "markdown",
   "id": "2489aab2",
   "metadata": {
    "nteract": {
     "transient": {
      "deleting": false
     }
    }
   },
   "source": [
    "We know very well, that this energy minimization amounts to finding the smallest eigenvalue, as we have a quadratic form:\n",
    "$$\n",
    "\\min_{\\langle\\Psi\\vert\\Psi\\rangle = 1} \\langle \\Psi \\vert \\hat{H} \\vert \\Psi\\rangle\n",
    "= \\min_{\\Psi^\\dagger\\Psi = 1}  \\Psi^\\dagger H  \\Psi\n",
    "= \\min_{\\Phi^\\dagger \\Phi = 1} \\Phi^\\dagger \\Lambda \\Phi\n",
    "= \\min_{\\Phi^\\dagger \\Phi = 1} \\Lambda_{ii} {\\vert\\Phi_i\\vert}^2\n",
    "= \\min \\Lambda_{ii}.\n",
    "$$\n",
    "\n",
    "Finding the global minimum is, however, not possible.\n",
    "This would amount to diagonalizing the *full* Hamiltonian.\n",
    "Instead, we minimize the energy with respect the tensor of only two adjacent sites.\n"
   ]
  },
  {
   "cell_type": "code",
   "execution_count": null,
   "id": "4c012c3b",
   "metadata": {
    "jupyter": {
     "outputs_hidden": false,
     "source_hidden": false
    },
    "nteract": {
     "transient": {
      "deleting": false
     }
    }
   },
   "outputs": [],
   "source": [
    "# minimize for sites 1 and 2\n",
    "left = ham_.left\n",
    "for site in range(0, 1):\n",
    "    left = tn.contractors.auto(\n",
    "      [left, ham_[site], bra[site], ket[site]],\n",
    "      output_edge_order=[nodes[site][\"right\"] for nodes in (ham_, bra, ket)]\n",
    "    )\n",
    "\n",
    "left.name = \"L\"\n",
    "left.axis_names = [\"right\", \"phys_in\", \"phys_out\"]\n",
    "right = ham_.right\n",
    "for site in range(size-1, 2, -1):\n",
    "    right = tn.contractors.auto(\n",
    "      [ham_[site], bra[site], ket[site], right],\n",
    "      output_edge_order=[nodes[site][\"left\"] for nodes in (ham_, bra, ket)]\n",
    "    )\n",
    "\n",
    "right.name = \"R\"\n",
    "right.axis_names = [\"left\", \"phys_in\", \"phys_out\"]\n",
    "\n",
    "eff_ham = [left, *ham_[1:3], right]\n",
    "tn.to_graphviz(eff_ham)"
   ]
  },
  {
   "cell_type": "code",
   "execution_count": null,
   "id": "37ade438",
   "metadata": {
    "jupyter": {
     "outputs_hidden": false,
     "source_hidden": false
    },
    "nteract": {
     "transient": {
      "deleting": false
     }
    }
   },
   "outputs": [],
   "source": [
    "left.axis_names"
   ]
  },
  {
   "cell_type": "markdown",
   "id": "fdd75b5c",
   "metadata": {
    "nteract": {
     "transient": {
      "deleting": false
     }
    }
   },
   "source": [
    "For the Lanczos algorithm, we only need Matrix-Vector products. If we construct the full matrix (by contracting the previous network) the cost is $\\mathcal{O}(\\chi^4)$ in the bond-dimension $\\chi$.\n",
    "It is cheaper to contract the Matrix-Vector product itself, with can be done with a cost of $\\mathcal(\\chi^3)$.\n"
   ]
  },
  {
   "cell_type": "code",
   "execution_count": null,
   "id": "55a7d2b1",
   "metadata": {
    "jupyter": {
     "outputs_hidden": false,
     "source_hidden": false
    },
    "nteract": {
     "transient": {
      "deleting": false
     }
    }
   },
   "outputs": [],
   "source": [
    "# create linear operator representing the MPO-Matrix\n",
    "\n",
    "vec_shape = tuple([onode['phys_in'].dimension for onode in eff_ham])\n",
    "vec_size = np.product(vec_shape)\n",
    "\n",
    "\n",
    "def matvec(vec):\n",
    "    \"\"\"Matrix-vector product of `eff_ham` for Lanczos.\"\"\"\n",
    "    vec_node = tn.Node(vec.reshape(vec_shape))\n",
    "    mpo_ = tn.replicate_nodes(eff_ham)\n",
    "    out_edges = [onode[\"phys_out\"] for onode in mpo_]\n",
    "    for ii, onode in enumerate(mpo_):\n",
    "        tn.connect(vec_node[ii], onode['phys_in'])\n",
    "    res = tn.contractors.auto(mpo_ + [vec_node], output_edge_order=out_edges)\n",
    "    return res.tensor.reshape(-1)\n",
    "\n",
    "\n",
    "eff_ham_operator = sla.LinearOperator(shape=(vec_size, vec_size), matvec=matvec)\n",
    "\n",
    "# use previous result as starting point\n",
    "node1, node2 = mps.copy()[1:3]\n",
    "\n",
    "v0 = tn.contract_between(\n",
    "    node1, node2,\n",
    "    output_edge_order=[node1[\"left\"], node1[\"phys\"], node2[\"phys\"], node2[\"right\"]]\n",
    ")\n",
    "\n",
    "gs_energy, gs_vec = sla.eigsh(eff_ham_operator, k=1, which='SA', v0=v0.tensor.reshape(-1))\n",
    "dbl_node = tn.Node(gs_vec.reshape(v0.shape))\n",
    "tn.to_graphviz([dbl_node])"
   ]
  },
  {
   "cell_type": "markdown",
   "id": "01c3d6fa",
   "metadata": {
    "nteract": {
     "transient": {
      "deleting": false
     }
    }
   },
   "source": [
    "We have locally optimized the state, for two combined nodes representing two neighboring (physical) sites.\n",
    "To get back to the MPS where every node has only one physical index we need to split the Node using SVD.\n",
    "We note, that optimizing the combined node, can automatically increase the bond dimension, as the bond after splitting as the dimension $\\chi = \\min(d \\chi_L, d \\chi_R)$,\n",
    "where $d$ is the physical dimension and $\\chi_{L/R}$ the left/right bond.\n",
    "\n",
    "Upon splitting the node, we truncate small singular values to limit the bond dimension.\n",
    "Typically, we also set a hard limit for the maximal bond dimension, not to keep the computation time limited.\n"
   ]
  },
  {
   "cell_type": "code",
   "execution_count": null,
   "id": "5b4dc862",
   "metadata": {
    "jupyter": {
     "outputs_hidden": false,
     "source_hidden": false
    },
    "nteract": {
     "transient": {
      "deleting": false
     }
    }
   },
   "outputs": [],
   "source": [
    "left, rs, rvh, trunc_s = tn.split_node_full_svd(\n",
    "    dbl_node, dbl_node[:2], dbl_node[2:],\n",
    "    max_singular_values=20, max_truncation_err=1e-6,\n",
    "    left_name=\"U\", middle_name=\"Σ\", right_name=\"V†\"\n",
    ")\n",
    "trunc_weight = np.sqrt(np.sum(trunc_s**2))\n",
    "print(\"Truncated weight\", trunc_weight)\n",
    "tn.to_graphviz([left, rs, rvh])"
   ]
  },
  {
   "cell_type": "markdown",
   "id": "b63cbe3c",
   "metadata": {
    "nteract": {
     "transient": {
      "deleting": false
     }
    }
   },
   "source": [
    "After this step, the node $\\Sigma$ containing the singular values is the new center of orthogonality.\n",
    "Thus, the norm of the MPS is the square of the sum of the singular values $\\lVert \\vert \\psi \\rangle \\rVert = \\langle \\psi \\vert \\psi \\rangle = \\sum_i \\sigma_i^2$.\n",
    "Physical states should always be normalized, thus after truncating singular values we should restore the norm.\n",
    "\n"
   ]
  },
  {
   "cell_type": "code",
   "execution_count": null,
   "id": "2cde1759",
   "metadata": {
    "jupyter": {
     "outputs_hidden": false,
     "source_hidden": false
    },
    "nteract": {
     "transient": {
      "deleting": false
     }
    }
   },
   "outputs": [],
   "source": [
    "if trunc_weight > 0:\n",
    "    rs.tensor /= np.sum(rs.tensor**2)"
   ]
  },
  {
   "cell_type": "markdown",
   "id": "a9d07273",
   "metadata": {
    "nteract": {
     "transient": {
      "deleting": false
     }
    }
   },
   "source": [
    "Subsequently, we can combine the node $\\Sigma$ with the left or right node, to regain the MPS for of one node per physical site.\n",
    "The new center of orthogonality will be the site we combine the $\\Sigma$ node with.\n",
    "\n",
    "Thus, combining $\\Sigma V^\\dagger$, we moved the center of orthogonality one site to the right."
   ]
  },
  {
   "cell_type": "code",
   "execution_count": null,
   "id": "4fb29fbb",
   "metadata": {
    "jupyter": {
     "outputs_hidden": false,
     "source_hidden": false
    },
    "nteract": {
     "transient": {
      "deleting": false
     }
    }
   },
   "outputs": [],
   "source": [
    "left.add_axis_names(MS_AXES)\n",
    "right = tn.contract_between(\n",
    "    rs, rvh, name=str(2), output_edge_order=[rs[0], *rvh[1:]],\n",
    "    axis_names=MS_AXES,\n",
    ")\n",
    "mps.set_range(1, 3, [left, right])\n",
    "\n",
    "mps.center += 1"
   ]
  },
  {
   "cell_type": "code",
   "execution_count": null,
   "id": "84190f71",
   "metadata": {
    "jupyter": {
     "outputs_hidden": false,
     "source_hidden": false
    },
    "nteract": {
     "transient": {
      "deleting": false
     }
    }
   },
   "outputs": [],
   "source": [
    "print(mps)"
   ]
  },
  {
   "cell_type": "markdown",
   "id": "f26fef19",
   "metadata": {
    "nteract": {
     "transient": {
      "deleting": false
     }
    }
   },
   "source": [
    "Now we have all ingredients together, we just have to repeat the steps moving from left to right and back, locally optimizing the nodes.\n",
    "The full implementation is given in `dmrg_tn.py`, we run an example:\n"
   ]
  },
  {
   "cell_type": "code",
   "execution_count": null,
   "id": "8ac69b8d",
   "metadata": {
    "jupyter": {
     "outputs_hidden": false,
     "source_hidden": false
    },
    "lines_to_next_cell": 2,
    "nteract": {
     "transient": {
      "deleting": false
     }
    }
   },
   "outputs": [],
   "source": [
    "SIZE = 10\n",
    "MAX_BOND_DIM = 20   # runtime should be have like O(bond_dim**3)\n",
    "TRUNC_WEIGHT = 1e-4\n",
    "\n",
    "mps = tt.State.from_random(\n",
    "    phys_dims=[2]*SIZE,\n",
    "    bond_dims=[min(2**(site), 2**(SIZE-site), 2)\n",
    "               for site in range(SIZE-1)]\n",
    ")\n",
    "mpo = tt.heisenbergxx.xx_hamiltonian(len(mps))\n",
    "dmrg = tt.DMRG(mps, mpo)\n",
    "\n",
    "eng, err = dmrg.sweep_2site(MAX_BOND_DIM, TRUNC_WEIGHT)\n",
    "print(f\"GS energy after first sweep:  {eng[-1]}. Max. truncated weight {max(err)}.\")\n",
    "eng, err = dmrg.sweep_2site(MAX_BOND_DIM, TRUNC_WEIGHT)\n",
    "print(f\"GS energy after second sweep: {eng[-1]}. Max. truncated weight {max(err)}.\")\n",
    "print(f\"Comparison: exact Gs energy: {tt.heisenbergxx.exact_energy(len(mps))}\")"
   ]
  },
  {
   "cell_type": "code",
   "execution_count": null,
   "id": "107ada65",
   "metadata": {
    "jupyter": {
     "outputs_hidden": false,
     "source_hidden": false
    },
    "nteract": {
     "transient": {
      "deleting": false
     }
    }
   },
   "outputs": [],
   "source": []
  }
 ],
 "metadata": {
  "jupytext": {
   "formats": "ipynb,py:hydrogen"
  },
  "kernel_info": {
   "name": "pyenv3"
  },
  "kernelspec": {
   "argv": [
    "/home/andreasw/.pyenv/versions/miniconda3-latest/envs/py37/bin/python",
    "-m",
    "ipykernel_launcher",
    "-f",
    "{connection_file}"
   ],
   "display_name": "Pyenv3",
   "language": "python",
   "name": "pyenv3"
  }
 },
 "nbformat": 4,
 "nbformat_minor": 5
}
